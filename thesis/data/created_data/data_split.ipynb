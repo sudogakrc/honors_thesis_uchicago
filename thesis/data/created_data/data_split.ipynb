{
 "cells": [
  {
   "cell_type": "code",
   "execution_count": 1,
   "id": "2488ae70",
   "metadata": {},
   "outputs": [],
   "source": [
    "import numpy as np\n",
    "import pandas as pd\n",
    "import matplotlib.pyplot as plt"
   ]
  },
  {
   "cell_type": "code",
   "execution_count": 2,
   "id": "c9d7e74c",
   "metadata": {},
   "outputs": [],
   "source": [
    "left_train = pd.read_csv(\"path/to/left/leaning/data/containing/left_train.csv\")\n",
    "right_train = pd.read_csv(\"path/to/right/leaning/data/containing/right_train.csv\")"
   ]
  },
  {
   "cell_type": "code",
   "execution_count": 3,
   "id": "f5c599eb",
   "metadata": {},
   "outputs": [
    {
     "data": {
      "text/html": [
       "<div>\n",
       "<style scoped>\n",
       "    .dataframe tbody tr th:only-of-type {\n",
       "        vertical-align: middle;\n",
       "    }\n",
       "\n",
       "    .dataframe tbody tr th {\n",
       "        vertical-align: top;\n",
       "    }\n",
       "\n",
       "    .dataframe thead th {\n",
       "        text-align: right;\n",
       "    }\n",
       "</style>\n",
       "<table border=\"1\" class=\"dataframe\">\n",
       "  <thead>\n",
       "    <tr style=\"text-align: right;\">\n",
       "      <th></th>\n",
       "      <th>index</th>\n",
       "      <th>body</th>\n",
       "      <th>label</th>\n",
       "    </tr>\n",
       "  </thead>\n",
       "  <tbody>\n",
       "    <tr>\n",
       "      <th>0</th>\n",
       "      <td>1854</td>\n",
       "      <td>Yesterday, the ORG administration cancelled OR...</td>\n",
       "      <td>1</td>\n",
       "    </tr>\n",
       "    <tr>\n",
       "      <th>1</th>\n",
       "      <td>1778</td>\n",
       "      <td>PERSON: Sigh. Have to admit I’m currently with...</td>\n",
       "      <td>1</td>\n",
       "    </tr>\n",
       "    <tr>\n",
       "      <th>2</th>\n",
       "      <td>1891</td>\n",
       "      <td>Stupefied by President PERSON’s claim Friday t...</td>\n",
       "      <td>1</td>\n",
       "    </tr>\n",
       "    <tr>\n",
       "      <th>3</th>\n",
       "      <td>1121</td>\n",
       "      <td>President PERSON said Sunday he will begin ren...</td>\n",
       "      <td>1</td>\n",
       "    </tr>\n",
       "    <tr>\n",
       "      <th>4</th>\n",
       "      <td>1341</td>\n",
       "      <td>President PERSON on Monday again insisted on f...</td>\n",
       "      <td>0</td>\n",
       "    </tr>\n",
       "    <tr>\n",
       "      <th>5</th>\n",
       "      <td>2054</td>\n",
       "      <td>A guest on ORG defended white supremacists ove...</td>\n",
       "      <td>1</td>\n",
       "    </tr>\n",
       "    <tr>\n",
       "      <th>6</th>\n",
       "      <td>1497</td>\n",
       "      <td>The family and employer of a GPE doctor arrest...</td>\n",
       "      <td>0</td>\n",
       "    </tr>\n",
       "    <tr>\n",
       "      <th>7</th>\n",
       "      <td>1863</td>\n",
       "      <td>Immigrant rights advocates are urging undocume...</td>\n",
       "      <td>1</td>\n",
       "    </tr>\n",
       "    <tr>\n",
       "      <th>8</th>\n",
       "      <td>2323</td>\n",
       "      <td>The delivery of a stillborn baby by a 24-year-...</td>\n",
       "      <td>0</td>\n",
       "    </tr>\n",
       "    <tr>\n",
       "      <th>9</th>\n",
       "      <td>2177</td>\n",
       "      <td>A city of GPE billboard calls for \"WORK_OF_ART...</td>\n",
       "      <td>0</td>\n",
       "    </tr>\n",
       "  </tbody>\n",
       "</table>\n",
       "</div>"
      ],
      "text/plain": [
       "   index                                               body  label\n",
       "0   1854  Yesterday, the ORG administration cancelled OR...      1\n",
       "1   1778  PERSON: Sigh. Have to admit I’m currently with...      1\n",
       "2   1891  Stupefied by President PERSON’s claim Friday t...      1\n",
       "3   1121  President PERSON said Sunday he will begin ren...      1\n",
       "4   1341  President PERSON on Monday again insisted on f...      0\n",
       "5   2054  A guest on ORG defended white supremacists ove...      1\n",
       "6   1497  The family and employer of a GPE doctor arrest...      0\n",
       "7   1863  Immigrant rights advocates are urging undocume...      1\n",
       "8   2323  The delivery of a stillborn baby by a 24-year-...      0\n",
       "9   2177  A city of GPE billboard calls for \"WORK_OF_ART...      0"
      ]
     },
     "execution_count": 3,
     "metadata": {},
     "output_type": "execute_result"
    }
   ],
   "source": [
    "left_train.head(10)"
   ]
  },
  {
   "cell_type": "code",
   "execution_count": 4,
   "id": "b1854719",
   "metadata": {},
   "outputs": [
    {
     "data": {
      "text/plain": [
       "<bound method DataFrame.info of       index                                               body  label\n",
       "0      1854  Yesterday, the ORG administration cancelled OR...      1\n",
       "1      1778  PERSON: Sigh. Have to admit I’m currently with...      1\n",
       "2      1891  Stupefied by President PERSON’s claim Friday t...      1\n",
       "3      1121  President PERSON said Sunday he will begin ren...      1\n",
       "4      1341  President PERSON on Monday again insisted on f...      0\n",
       "...     ...                                                ...    ...\n",
       "1435   2532  The ORG human rights office on Friday rejected...      0\n",
       "1436   2470  President PERSON said on Wednesday LAW does no...      0\n",
       "1437   1378  The last place NORP migrant PERSON imagined hi...      0\n",
       "1438   2108  Third year master of divinity student PERSON (...      0\n",
       "1439   1402  ORG on Tuesday cited a combination of court ru...      0\n",
       "\n",
       "[1440 rows x 3 columns]>"
      ]
     },
     "execution_count": 4,
     "metadata": {},
     "output_type": "execute_result"
    }
   ],
   "source": [
    "left_train.info"
   ]
  },
  {
   "cell_type": "code",
   "execution_count": 5,
   "id": "fd8627e5",
   "metadata": {},
   "outputs": [
    {
     "data": {
      "text/plain": [
       "index     int64\n",
       "body     object\n",
       "label     int64\n",
       "dtype: object"
      ]
     },
     "execution_count": 5,
     "metadata": {},
     "output_type": "execute_result"
    }
   ],
   "source": [
    "left_train.dtypes"
   ]
  },
  {
   "cell_type": "markdown",
   "id": "355e1e56",
   "metadata": {},
   "source": [
    "### In the original csv, label == 1 is left / right. We are only keeping them."
   ]
  },
  {
   "cell_type": "markdown",
   "id": "7d93ecf2",
   "metadata": {},
   "source": [
    "### For left_train:"
   ]
  },
  {
   "cell_type": "code",
   "execution_count": 6,
   "id": "fad20890",
   "metadata": {},
   "outputs": [],
   "source": [
    "onlyleft_train = left_train[left_train['label'] == 1]"
   ]
  },
  {
   "cell_type": "code",
   "execution_count": 7,
   "id": "7110ee53",
   "metadata": {},
   "outputs": [
    {
     "data": {
      "text/html": [
       "<div>\n",
       "<style scoped>\n",
       "    .dataframe tbody tr th:only-of-type {\n",
       "        vertical-align: middle;\n",
       "    }\n",
       "\n",
       "    .dataframe tbody tr th {\n",
       "        vertical-align: top;\n",
       "    }\n",
       "\n",
       "    .dataframe thead th {\n",
       "        text-align: right;\n",
       "    }\n",
       "</style>\n",
       "<table border=\"1\" class=\"dataframe\">\n",
       "  <thead>\n",
       "    <tr style=\"text-align: right;\">\n",
       "      <th></th>\n",
       "      <th>index</th>\n",
       "      <th>body</th>\n",
       "      <th>label</th>\n",
       "    </tr>\n",
       "  </thead>\n",
       "  <tbody>\n",
       "    <tr>\n",
       "      <th>0</th>\n",
       "      <td>1854</td>\n",
       "      <td>Yesterday, the ORG administration cancelled OR...</td>\n",
       "      <td>1</td>\n",
       "    </tr>\n",
       "    <tr>\n",
       "      <th>1</th>\n",
       "      <td>1778</td>\n",
       "      <td>PERSON: Sigh. Have to admit I’m currently with...</td>\n",
       "      <td>1</td>\n",
       "    </tr>\n",
       "    <tr>\n",
       "      <th>2</th>\n",
       "      <td>1891</td>\n",
       "      <td>Stupefied by President PERSON’s claim Friday t...</td>\n",
       "      <td>1</td>\n",
       "    </tr>\n",
       "    <tr>\n",
       "      <th>3</th>\n",
       "      <td>1121</td>\n",
       "      <td>President PERSON said Sunday he will begin ren...</td>\n",
       "      <td>1</td>\n",
       "    </tr>\n",
       "    <tr>\n",
       "      <th>5</th>\n",
       "      <td>2054</td>\n",
       "      <td>A guest on ORG defended white supremacists ove...</td>\n",
       "      <td>1</td>\n",
       "    </tr>\n",
       "    <tr>\n",
       "      <th>...</th>\n",
       "      <td>...</td>\n",
       "      <td>...</td>\n",
       "      <td>...</td>\n",
       "    </tr>\n",
       "    <tr>\n",
       "      <th>1424</th>\n",
       "      <td>1051</td>\n",
       "      <td>Congressional NORP return to work this week th...</td>\n",
       "      <td>1</td>\n",
       "    </tr>\n",
       "    <tr>\n",
       "      <th>1426</th>\n",
       "      <td>979</td>\n",
       "      <td>GPE’ restrictive immigration policies are havi...</td>\n",
       "      <td>1</td>\n",
       "    </tr>\n",
       "    <tr>\n",
       "      <th>1428</th>\n",
       "      <td>1795</td>\n",
       "      <td>Approaching Shutdown:\\nScenes From ORGOn a typ...</td>\n",
       "      <td>1</td>\n",
       "    </tr>\n",
       "    <tr>\n",
       "      <th>1429</th>\n",
       "      <td>1877</td>\n",
       "      <td>PERSON, along with his wife ORG, announced on ...</td>\n",
       "      <td>1</td>\n",
       "    </tr>\n",
       "    <tr>\n",
       "      <th>1434</th>\n",
       "      <td>2036</td>\n",
       "      <td>As the federal government partially shut down ...</td>\n",
       "      <td>1</td>\n",
       "    </tr>\n",
       "  </tbody>\n",
       "</table>\n",
       "<p>720 rows × 3 columns</p>\n",
       "</div>"
      ],
      "text/plain": [
       "      index                                               body  label\n",
       "0      1854  Yesterday, the ORG administration cancelled OR...      1\n",
       "1      1778  PERSON: Sigh. Have to admit I’m currently with...      1\n",
       "2      1891  Stupefied by President PERSON’s claim Friday t...      1\n",
       "3      1121  President PERSON said Sunday he will begin ren...      1\n",
       "5      2054  A guest on ORG defended white supremacists ove...      1\n",
       "...     ...                                                ...    ...\n",
       "1424   1051  Congressional NORP return to work this week th...      1\n",
       "1426    979  GPE’ restrictive immigration policies are havi...      1\n",
       "1428   1795  Approaching Shutdown:\\nScenes From ORGOn a typ...      1\n",
       "1429   1877  PERSON, along with his wife ORG, announced on ...      1\n",
       "1434   2036  As the federal government partially shut down ...      1\n",
       "\n",
       "[720 rows x 3 columns]"
      ]
     },
     "execution_count": 7,
     "metadata": {},
     "output_type": "execute_result"
    }
   ],
   "source": [
    "onlyleft_train"
   ]
  },
  {
   "cell_type": "code",
   "execution_count": 8,
   "id": "a26047e3",
   "metadata": {},
   "outputs": [
    {
     "data": {
      "text/plain": [
       "<bound method DataFrame.info of       index                                               body  label\n",
       "0      1854  Yesterday, the ORG administration cancelled OR...      1\n",
       "1      1778  PERSON: Sigh. Have to admit I’m currently with...      1\n",
       "2      1891  Stupefied by President PERSON’s claim Friday t...      1\n",
       "3      1121  President PERSON said Sunday he will begin ren...      1\n",
       "5      2054  A guest on ORG defended white supremacists ove...      1\n",
       "...     ...                                                ...    ...\n",
       "1424   1051  Congressional NORP return to work this week th...      1\n",
       "1426    979  GPE’ restrictive immigration policies are havi...      1\n",
       "1428   1795  Approaching Shutdown:\\nScenes From ORGOn a typ...      1\n",
       "1429   1877  PERSON, along with his wife ORG, announced on ...      1\n",
       "1434   2036  As the federal government partially shut down ...      1\n",
       "\n",
       "[720 rows x 3 columns]>"
      ]
     },
     "execution_count": 8,
     "metadata": {},
     "output_type": "execute_result"
    }
   ],
   "source": [
    "onlyleft_train.info"
   ]
  },
  {
   "cell_type": "markdown",
   "id": "b393e3f3",
   "metadata": {},
   "source": [
    "### For right_train:"
   ]
  },
  {
   "cell_type": "code",
   "execution_count": 9,
   "id": "9438ba4d",
   "metadata": {},
   "outputs": [
    {
     "data": {
      "text/plain": [
       "<bound method DataFrame.info of       index                                               body  label\n",
       "0       679  ORG on Sunday changed a headline after a backl...      1\n",
       "1       264  A wanted felon who had been deported to GPE in...      1\n",
       "2        29  The ORG administration announced last year its...      1\n",
       "3        51  Hundreds of illegal immigrants attempting to c...      1\n",
       "4       651  President PERSON differed from prior leaders i...      1\n",
       "...     ...                                                ...    ...\n",
       "1435    347  The number of white NORP deaths exceeds the nu...      1\n",
       "1436    370  A noncitizen who was deported after he was con...      1\n",
       "1437    409  File Photo: terdiction of both undocumented al...      1\n",
       "1438    374  Officials in GPE arrested an PRODUCT member in...      1\n",
       "1439    812  ORG joined the ranks Thursday of ORG, ORG and ...      1\n",
       "\n",
       "[1440 rows x 3 columns]>"
      ]
     },
     "execution_count": 9,
     "metadata": {},
     "output_type": "execute_result"
    }
   ],
   "source": [
    "right_train.info"
   ]
  },
  {
   "cell_type": "code",
   "execution_count": 10,
   "id": "1bb96ede",
   "metadata": {},
   "outputs": [],
   "source": [
    "onlyright_train = right_train[right_train['label'] == 1]"
   ]
  },
  {
   "cell_type": "code",
   "execution_count": null,
   "id": "7c969fe3",
   "metadata": {},
   "outputs": [],
   "source": [
    "onlyright_train['label'].replace(to_replace=1, value=0, inplace=True)"
   ]
  },
  {
   "cell_type": "code",
   "execution_count": 12,
   "id": "a077a597",
   "metadata": {},
   "outputs": [
    {
     "data": {
      "text/html": [
       "<div>\n",
       "<style scoped>\n",
       "    .dataframe tbody tr th:only-of-type {\n",
       "        vertical-align: middle;\n",
       "    }\n",
       "\n",
       "    .dataframe tbody tr th {\n",
       "        vertical-align: top;\n",
       "    }\n",
       "\n",
       "    .dataframe thead th {\n",
       "        text-align: right;\n",
       "    }\n",
       "</style>\n",
       "<table border=\"1\" class=\"dataframe\">\n",
       "  <thead>\n",
       "    <tr style=\"text-align: right;\">\n",
       "      <th></th>\n",
       "      <th>index</th>\n",
       "      <th>body</th>\n",
       "      <th>label</th>\n",
       "    </tr>\n",
       "  </thead>\n",
       "  <tbody>\n",
       "    <tr>\n",
       "      <th>0</th>\n",
       "      <td>679</td>\n",
       "      <td>ORG on Sunday changed a headline after a backl...</td>\n",
       "      <td>0</td>\n",
       "    </tr>\n",
       "    <tr>\n",
       "      <th>1</th>\n",
       "      <td>264</td>\n",
       "      <td>A wanted felon who had been deported to GPE in...</td>\n",
       "      <td>0</td>\n",
       "    </tr>\n",
       "    <tr>\n",
       "      <th>2</th>\n",
       "      <td>29</td>\n",
       "      <td>The ORG administration announced last year its...</td>\n",
       "      <td>0</td>\n",
       "    </tr>\n",
       "    <tr>\n",
       "      <th>3</th>\n",
       "      <td>51</td>\n",
       "      <td>Hundreds of illegal immigrants attempting to c...</td>\n",
       "      <td>0</td>\n",
       "    </tr>\n",
       "    <tr>\n",
       "      <th>4</th>\n",
       "      <td>651</td>\n",
       "      <td>President PERSON differed from prior leaders i...</td>\n",
       "      <td>0</td>\n",
       "    </tr>\n",
       "    <tr>\n",
       "      <th>...</th>\n",
       "      <td>...</td>\n",
       "      <td>...</td>\n",
       "      <td>...</td>\n",
       "    </tr>\n",
       "    <tr>\n",
       "      <th>1435</th>\n",
       "      <td>347</td>\n",
       "      <td>The number of white NORP deaths exceeds the nu...</td>\n",
       "      <td>0</td>\n",
       "    </tr>\n",
       "    <tr>\n",
       "      <th>1436</th>\n",
       "      <td>370</td>\n",
       "      <td>A noncitizen who was deported after he was con...</td>\n",
       "      <td>0</td>\n",
       "    </tr>\n",
       "    <tr>\n",
       "      <th>1437</th>\n",
       "      <td>409</td>\n",
       "      <td>File Photo: terdiction of both undocumented al...</td>\n",
       "      <td>0</td>\n",
       "    </tr>\n",
       "    <tr>\n",
       "      <th>1438</th>\n",
       "      <td>374</td>\n",
       "      <td>Officials in GPE arrested an PRODUCT member in...</td>\n",
       "      <td>0</td>\n",
       "    </tr>\n",
       "    <tr>\n",
       "      <th>1439</th>\n",
       "      <td>812</td>\n",
       "      <td>ORG joined the ranks Thursday of ORG, ORG and ...</td>\n",
       "      <td>0</td>\n",
       "    </tr>\n",
       "  </tbody>\n",
       "</table>\n",
       "<p>720 rows × 3 columns</p>\n",
       "</div>"
      ],
      "text/plain": [
       "      index                                               body  label\n",
       "0       679  ORG on Sunday changed a headline after a backl...      0\n",
       "1       264  A wanted felon who had been deported to GPE in...      0\n",
       "2        29  The ORG administration announced last year its...      0\n",
       "3        51  Hundreds of illegal immigrants attempting to c...      0\n",
       "4       651  President PERSON differed from prior leaders i...      0\n",
       "...     ...                                                ...    ...\n",
       "1435    347  The number of white NORP deaths exceeds the nu...      0\n",
       "1436    370  A noncitizen who was deported after he was con...      0\n",
       "1437    409  File Photo: terdiction of both undocumented al...      0\n",
       "1438    374  Officials in GPE arrested an PRODUCT member in...      0\n",
       "1439    812  ORG joined the ranks Thursday of ORG, ORG and ...      0\n",
       "\n",
       "[720 rows x 3 columns]"
      ]
     },
     "execution_count": 12,
     "metadata": {},
     "output_type": "execute_result"
    }
   ],
   "source": [
    "onlyright_train"
   ]
  },
  {
   "cell_type": "code",
   "execution_count": 13,
   "id": "d6d7647e",
   "metadata": {},
   "outputs": [
    {
     "data": {
      "text/plain": [
       "<bound method DataFrame.info of       index                                               body  label\n",
       "0       679  ORG on Sunday changed a headline after a backl...      0\n",
       "1       264  A wanted felon who had been deported to GPE in...      0\n",
       "2        29  The ORG administration announced last year its...      0\n",
       "3        51  Hundreds of illegal immigrants attempting to c...      0\n",
       "4       651  President PERSON differed from prior leaders i...      0\n",
       "...     ...                                                ...    ...\n",
       "1435    347  The number of white NORP deaths exceeds the nu...      0\n",
       "1436    370  A noncitizen who was deported after he was con...      0\n",
       "1437    409  File Photo: terdiction of both undocumented al...      0\n",
       "1438    374  Officials in GPE arrested an PRODUCT member in...      0\n",
       "1439    812  ORG joined the ranks Thursday of ORG, ORG and ...      0\n",
       "\n",
       "[720 rows x 3 columns]>"
      ]
     },
     "execution_count": 13,
     "metadata": {},
     "output_type": "execute_result"
    }
   ],
   "source": [
    "onlyright_train.info"
   ]
  },
  {
   "cell_type": "code",
   "execution_count": 14,
   "id": "939a4bc5",
   "metadata": {},
   "outputs": [],
   "source": [
    "left_right_train = onlyleft_train.append(onlyright_train, ignore_index=True)"
   ]
  },
  {
   "cell_type": "code",
   "execution_count": 15,
   "id": "f66853a2",
   "metadata": {},
   "outputs": [
    {
     "data": {
      "text/plain": [
       "<bound method DataFrame.info of       index                                               body  label\n",
       "0      1854  Yesterday, the ORG administration cancelled OR...      1\n",
       "1      1778  PERSON: Sigh. Have to admit I’m currently with...      1\n",
       "2      1891  Stupefied by President PERSON’s claim Friday t...      1\n",
       "3      1121  President PERSON said Sunday he will begin ren...      1\n",
       "4      2054  A guest on ORG defended white supremacists ove...      1\n",
       "...     ...                                                ...    ...\n",
       "1435    347  The number of white NORP deaths exceeds the nu...      0\n",
       "1436    370  A noncitizen who was deported after he was con...      0\n",
       "1437    409  File Photo: terdiction of both undocumented al...      0\n",
       "1438    374  Officials in GPE arrested an PRODUCT member in...      0\n",
       "1439    812  ORG joined the ranks Thursday of ORG, ORG and ...      0\n",
       "\n",
       "[1440 rows x 3 columns]>"
      ]
     },
     "execution_count": 15,
     "metadata": {},
     "output_type": "execute_result"
    }
   ],
   "source": [
    "left_right_train.info"
   ]
  },
  {
   "cell_type": "code",
   "execution_count": 16,
   "id": "3b2cfe37",
   "metadata": {},
   "outputs": [
    {
     "data": {
      "text/plain": [
       "<bound method DataFrame.info of       index                                               body  label\n",
       "0      1001  President PERSON reiterated Saturday that he w...      1\n",
       "1       699  The mother of a son killed by an illegal immig...      0\n",
       "2       810  Thousands of illegals continue to walk directl...      0\n",
       "3       594  President PERSON proposed a compromise plan to...      0\n",
       "4       785  A GPE rancher thanked President PERSON for try...      0\n",
       "...     ...                                                ...    ...\n",
       "1435    196  New data shows NORP are leading asylum request...      0\n",
       "1436    753  GPE NORP ORG candidate PERSON objected to Pres...      0\n",
       "1437   1019  According to her prepared testimony, ORG Secre...      1\n",
       "1438   1670  ORG took no action on Tuesday on the ORG admin...      1\n",
       "1439   1610  The GPE city attorney, PERSON, who is suing th...      1\n",
       "\n",
       "[1440 rows x 3 columns]>"
      ]
     },
     "execution_count": 16,
     "metadata": {},
     "output_type": "execute_result"
    }
   ],
   "source": [
    "left_right_train = left_right_train.sample(frac=1).reset_index(drop=True)\n",
    "left_right_train.info"
   ]
  },
  {
   "cell_type": "code",
   "execution_count": 17,
   "id": "0743956d",
   "metadata": {},
   "outputs": [
    {
     "data": {
      "text/html": [
       "<div>\n",
       "<style scoped>\n",
       "    .dataframe tbody tr th:only-of-type {\n",
       "        vertical-align: middle;\n",
       "    }\n",
       "\n",
       "    .dataframe tbody tr th {\n",
       "        vertical-align: top;\n",
       "    }\n",
       "\n",
       "    .dataframe thead th {\n",
       "        text-align: right;\n",
       "    }\n",
       "</style>\n",
       "<table border=\"1\" class=\"dataframe\">\n",
       "  <thead>\n",
       "    <tr style=\"text-align: right;\">\n",
       "      <th></th>\n",
       "      <th>index</th>\n",
       "      <th>body</th>\n",
       "      <th>label</th>\n",
       "    </tr>\n",
       "  </thead>\n",
       "  <tbody>\n",
       "    <tr>\n",
       "      <th>680</th>\n",
       "      <td>1854</td>\n",
       "      <td>Yesterday, the ORG administration cancelled OR...</td>\n",
       "      <td>1</td>\n",
       "    </tr>\n",
       "  </tbody>\n",
       "</table>\n",
       "</div>"
      ],
      "text/plain": [
       "     index                                               body  label\n",
       "680   1854  Yesterday, the ORG administration cancelled OR...      1"
      ]
     },
     "execution_count": 17,
     "metadata": {},
     "output_type": "execute_result"
    }
   ],
   "source": [
    "left_right_train[left_right_train['index'] == 1854]"
   ]
  },
  {
   "cell_type": "code",
   "execution_count": 18,
   "id": "835c4403",
   "metadata": {},
   "outputs": [
    {
     "data": {
      "text/html": [
       "<div>\n",
       "<style scoped>\n",
       "    .dataframe tbody tr th:only-of-type {\n",
       "        vertical-align: middle;\n",
       "    }\n",
       "\n",
       "    .dataframe tbody tr th {\n",
       "        vertical-align: top;\n",
       "    }\n",
       "\n",
       "    .dataframe thead th {\n",
       "        text-align: right;\n",
       "    }\n",
       "</style>\n",
       "<table border=\"1\" class=\"dataframe\">\n",
       "  <thead>\n",
       "    <tr style=\"text-align: right;\">\n",
       "      <th></th>\n",
       "      <th>index</th>\n",
       "      <th>body</th>\n",
       "      <th>label</th>\n",
       "    </tr>\n",
       "  </thead>\n",
       "  <tbody>\n",
       "    <tr>\n",
       "      <th>1087</th>\n",
       "      <td>679</td>\n",
       "      <td>ORG on Sunday changed a headline after a backl...</td>\n",
       "      <td>0</td>\n",
       "    </tr>\n",
       "  </tbody>\n",
       "</table>\n",
       "</div>"
      ],
      "text/plain": [
       "      index                                               body  label\n",
       "1087    679  ORG on Sunday changed a headline after a backl...      0"
      ]
     },
     "execution_count": 18,
     "metadata": {},
     "output_type": "execute_result"
    }
   ],
   "source": [
    "left_right_train[left_right_train['index'] == 679]"
   ]
  },
  {
   "cell_type": "markdown",
   "id": "92bd5531",
   "metadata": {},
   "source": [
    "### For left_test:"
   ]
  },
  {
   "cell_type": "code",
   "execution_count": 19,
   "id": "b5209d68",
   "metadata": {},
   "outputs": [],
   "source": [
    "left_test = pd.read_csv(\"path/to/left/leaning/data/containing/left_test.csv\")\n",
    "right_test = pd.read_csv(\"path/to/right/leaning/data/containing/right_test.csv\")"
   ]
  },
  {
   "cell_type": "code",
   "execution_count": 20,
   "id": "1874eff1",
   "metadata": {
    "scrolled": true
   },
   "outputs": [
    {
     "data": {
      "text/plain": [
       "<bound method DataFrame.info of      index     outlet                                               body  \\\n",
       "0     2485    Reuters  Over two hours on June 1, a NORP teenager name...   \n",
       "1     1252        WSJ  GPE, GPE, will soon whether to end its contrac...   \n",
       "2     2186  USA Today  As the government shutdown stretched toward a ...   \n",
       "3     2380  USA Today  On a hot day in March, hours before then-presi...   \n",
       "4     1239        WSJ  The ORG administration said Thursday that immi...   \n",
       "..     ...        ...                                                ...   \n",
       "175   2479    Reuters  GPE federal prosecutors on Thursday charged a ...   \n",
       "176   2505    Reuters  Nur PERSON already slim hopes of a new life in...   \n",
       "177   1531    NYTimes  From the early days of the PERSON administrati...   \n",
       "178   1911   HuffPost  President PERSON addressed the nation live fro...   \n",
       "179   2377  USA Today  PERSON, who has headed President PERSON's effo...   \n",
       "\n",
       "     label  \n",
       "0        0  \n",
       "1        0  \n",
       "2        0  \n",
       "3        0  \n",
       "4        0  \n",
       "..     ...  \n",
       "175      0  \n",
       "176      0  \n",
       "177      1  \n",
       "178      1  \n",
       "179      0  \n",
       "\n",
       "[180 rows x 4 columns]>"
      ]
     },
     "execution_count": 20,
     "metadata": {},
     "output_type": "execute_result"
    }
   ],
   "source": [
    "left_test.info"
   ]
  },
  {
   "cell_type": "code",
   "execution_count": 21,
   "id": "61db482a",
   "metadata": {},
   "outputs": [],
   "source": [
    "onlyleft_test = left_test[left_test['label'] == 1]"
   ]
  },
  {
   "cell_type": "markdown",
   "id": "c54634a7",
   "metadata": {},
   "source": [
    "### For right_test:"
   ]
  },
  {
   "cell_type": "code",
   "execution_count": 22,
   "id": "38220495",
   "metadata": {},
   "outputs": [
    {
     "data": {
      "text/plain": [
       "<bound method DataFrame.info of      index        outlet                                               body  \\\n",
       "0     2485       Reuters  Over two hours on June 1, a NORP teenager name...   \n",
       "1     1252           WSJ  GPE, GPE, will soon whether to end its contrac...   \n",
       "2     2186     USA Today  As the government shutdown stretched toward a ...   \n",
       "3     2380     USA Today  On a hot day in March, hours before then-presi...   \n",
       "4     1239           WSJ  The ORG administration said Thursday that immi...   \n",
       "..     ...           ...                                                ...   \n",
       "175    878  Daily Caller  President PERSON has often noted that GPE’s ri...   \n",
       "176    677  Daily Caller  A LOC man who provided logistical support and ...   \n",
       "177   2479       Reuters  GPE federal prosecutors on Thursday charged a ...   \n",
       "178   2505       Reuters  Nur PERSON already slim hopes of a new life in...   \n",
       "179   2377     USA Today  PERSON, who has headed President PERSON's effo...   \n",
       "\n",
       "     label  \n",
       "0        0  \n",
       "1        0  \n",
       "2        0  \n",
       "3        0  \n",
       "4        0  \n",
       "..     ...  \n",
       "175      1  \n",
       "176      1  \n",
       "177      0  \n",
       "178      0  \n",
       "179      0  \n",
       "\n",
       "[180 rows x 4 columns]>"
      ]
     },
     "execution_count": 22,
     "metadata": {},
     "output_type": "execute_result"
    }
   ],
   "source": [
    "right_test.info"
   ]
  },
  {
   "cell_type": "code",
   "execution_count": 23,
   "id": "b683d146",
   "metadata": {},
   "outputs": [],
   "source": [
    "onlyright_test = right_test[right_test['label'] == 1]"
   ]
  },
  {
   "cell_type": "code",
   "execution_count": null,
   "id": "689a0cf1",
   "metadata": {},
   "outputs": [],
   "source": [
    "onlyright_test['label'].replace(to_replace=1, value=0, inplace=True)"
   ]
  },
  {
   "cell_type": "code",
   "execution_count": 25,
   "id": "7c799dee",
   "metadata": {},
   "outputs": [],
   "source": [
    "left_right_test = onlyleft_test.append(onlyright_test, ignore_index=True)"
   ]
  },
  {
   "cell_type": "code",
   "execution_count": 26,
   "id": "8ea5702b",
   "metadata": {},
   "outputs": [
    {
     "data": {
      "text/plain": [
       "<bound method DataFrame.info of      index     outlet                                               body  \\\n",
       "0      551  Breitbart  Many mainstream news outlets appear to be purp...   \n",
       "1      577  Breitbart  Sen. PERSON (D-WV), appearing on ORG Sunday mo...   \n",
       "2     1972   HuffPost  Nearly 60 percent of NORP disagree with Presid...   \n",
       "3      511  Breitbart  ORG reported the recovery of three deceased mi...   \n",
       "4     1996   HuffPost  ORG Wisconsin Gov. PERSON (D) issued an execut...   \n",
       "..     ...        ...                                                ...   \n",
       "175     58    FoxNews  In the span of just a few months, the idea of ...   \n",
       "176    188    FoxNews  Everywhere President PERSON looks, he sees a w...   \n",
       "177   1044        CNN  President-elect PERSON completed a deposition ...   \n",
       "178   1656    NYTimes  A difficult situation for migrant children in ...   \n",
       "179   1527    NYTimes  When the hotel chain ORG acknowledged in Septe...   \n",
       "\n",
       "     label  \n",
       "0        0  \n",
       "1        0  \n",
       "2        1  \n",
       "3        0  \n",
       "4        1  \n",
       "..     ...  \n",
       "175      0  \n",
       "176      0  \n",
       "177      1  \n",
       "178      1  \n",
       "179      1  \n",
       "\n",
       "[180 rows x 4 columns]>"
      ]
     },
     "execution_count": 26,
     "metadata": {},
     "output_type": "execute_result"
    }
   ],
   "source": [
    "left_right_test = left_right_test.sample(frac=1).reset_index(drop=True)\n",
    "left_right_test.info"
   ]
  },
  {
   "cell_type": "markdown",
   "id": "2e6b7f4d",
   "metadata": {},
   "source": [
    "### For left_val:"
   ]
  },
  {
   "cell_type": "code",
   "execution_count": 27,
   "id": "c8445ba6",
   "metadata": {},
   "outputs": [],
   "source": [
    "left_val = pd.read_csv(\"path/to/left/leaning/data/containing/left_val.csv\")\n",
    "right_val = pd.read_csv(\"path/to/right/leaning/data/containing/right_val.csv\")"
   ]
  },
  {
   "cell_type": "code",
   "execution_count": 28,
   "id": "cd1d3c6e",
   "metadata": {},
   "outputs": [
    {
     "data": {
      "text/plain": [
       "<bound method DataFrame.info of      index                                               body  label\n",
       "0     1760  More than 600 miles of fencing already cover a...      1\n",
       "1      957  ORG adviser PERSON’s proposal to reform the GP...      1\n",
       "2     1270  The PERSON administration is preparing for nea...      0\n",
       "3     1043  ORG Speaker PERSON evoked the memory of PERSON...      1\n",
       "4     2349  A 45-year-old undocumented immigrant from GPE ...      0\n",
       "..     ...                                                ...    ...\n",
       "175   1817  President-elect PERSON won after making a seri...      1\n",
       "176   1672  The wall rhyme appears to fit into that same b...      1\n",
       "177   1544  “PERSON!” the children’s voices cry out, betwe...      1\n",
       "178    902  Will hundreds of thousands of young undocument...      1\n",
       "179   1842  Even as NORP and voting rights groups praised ...      1\n",
       "\n",
       "[180 rows x 3 columns]>"
      ]
     },
     "execution_count": 28,
     "metadata": {},
     "output_type": "execute_result"
    }
   ],
   "source": [
    "left_val.info"
   ]
  },
  {
   "cell_type": "code",
   "execution_count": 29,
   "id": "0b169219",
   "metadata": {},
   "outputs": [],
   "source": [
    "onlyleft_val = left_val[left_val['label'] == 1]"
   ]
  },
  {
   "cell_type": "markdown",
   "id": "ab23617a",
   "metadata": {},
   "source": [
    "### For right_val:"
   ]
  },
  {
   "cell_type": "code",
   "execution_count": 30,
   "id": "dd4cf342",
   "metadata": {},
   "outputs": [
    {
     "data": {
      "text/plain": [
       "<bound method DataFrame.info of      index                                               body  label\n",
       "0     1270  The PERSON administration is preparing for nea...      0\n",
       "1     2349  A 45-year-old undocumented immigrant from GPE ...      0\n",
       "2     2308  A guard walks by toys placed for migrant child...      0\n",
       "3     1346  Along a dusty stretch of border, flanked by an...      0\n",
       "4      688  A federal judge in GPE on Monday narrowed the ...      1\n",
       "..     ...                                                ...    ...\n",
       "175    819  PolitiFact rated a claim that illegal immigran...      1\n",
       "176    599  NORP immediately rejected President PERSON’s o...      1\n",
       "177    887  ORG’s PERSON believes he brought the “heat” to...      1\n",
       "178    738  The caravan making its way through various par...      1\n",
       "179    467  Border Patrol agents rescued a NORP woman afte...      1\n",
       "\n",
       "[180 rows x 3 columns]>"
      ]
     },
     "execution_count": 30,
     "metadata": {},
     "output_type": "execute_result"
    }
   ],
   "source": [
    "right_val.info"
   ]
  },
  {
   "cell_type": "code",
   "execution_count": 31,
   "id": "802a54f7",
   "metadata": {},
   "outputs": [],
   "source": [
    "onlyright_val = right_val[right_val['label'] == 1]"
   ]
  },
  {
   "cell_type": "code",
   "execution_count": null,
   "id": "924011d0",
   "metadata": {},
   "outputs": [],
   "source": [
    "onlyright_val['label'].replace(to_replace=1, value=0, inplace=True)"
   ]
  },
  {
   "cell_type": "code",
   "execution_count": 33,
   "id": "6d0c45e9",
   "metadata": {},
   "outputs": [],
   "source": [
    "left_right_val = onlyleft_val.append(onlyright_val, ignore_index=True)"
   ]
  },
  {
   "cell_type": "code",
   "execution_count": 34,
   "id": "d59559c3",
   "metadata": {},
   "outputs": [
    {
     "data": {
      "text/plain": [
       "<bound method DataFrame.info of      index                                               body  label\n",
       "0     1721  The debate around a border wall and immigratio...      1\n",
       "1     1547  Most NORP oppose the separation of immigrant f...      1\n",
       "2      416  PERSON mom PERSON offered to bring her dead so...      0\n",
       "3     1042  President PERSON on Friday referred to ORG as ...      1\n",
       "4     1849  The PERSON administration will tell about 200,...      1\n",
       "..     ...                                                ...    ...\n",
       "175   1154  Acting ORG Secretary PERSON on Sunday said 350...      1\n",
       "176    209  A dozen people were arrested Monday after they...      0\n",
       "177   2086  PERSON stooped to a new low this morning; twee...      1\n",
       "178   1847  With the clock running out on ORG (DACA), the ...      1\n",
       "179    988  President PERSON on Wednesday got behind a bil...      1\n",
       "\n",
       "[180 rows x 3 columns]>"
      ]
     },
     "execution_count": 34,
     "metadata": {},
     "output_type": "execute_result"
    }
   ],
   "source": [
    "left_right_val = left_right_val.sample(frac=1).reset_index(drop=True)\n",
    "left_right_val.info"
   ]
  },
  {
   "cell_type": "markdown",
   "id": "f0a512ae",
   "metadata": {},
   "source": [
    "## df to csv:"
   ]
  },
  {
   "cell_type": "code",
   "execution_count": 35,
   "id": "6bbc635d",
   "metadata": {},
   "outputs": [],
   "source": [
    "left_right_train.to_csv('path/to/directory/you/want/to/store/train.csv', index=False)"
   ]
  },
  {
   "cell_type": "code",
   "execution_count": 36,
   "id": "76bf4aef",
   "metadata": {},
   "outputs": [],
   "source": [
    "left_right_test.to_csv('path/to/directory/you/want/to/store/test.csv', index=False)"
   ]
  },
  {
   "cell_type": "code",
   "execution_count": 37,
   "id": "08b1170a",
   "metadata": {},
   "outputs": [],
   "source": [
    "left_right_val.to_csv('path/to/directory/you/want/to/store/val.csv', index=False)"
   ]
  },
  {
   "cell_type": "code",
   "execution_count": null,
   "id": "d7ab43be",
   "metadata": {},
   "outputs": [],
   "source": []
  }
 ],
 "metadata": {
  "kernelspec": {
   "display_name": "Python 3 (ipykernel)",
   "language": "python",
   "name": "python3"
  },
  "language_info": {
   "codemirror_mode": {
    "name": "ipython",
    "version": 3
   },
   "file_extension": ".py",
   "mimetype": "text/x-python",
   "name": "python",
   "nbconvert_exporter": "python",
   "pygments_lexer": "ipython3",
   "version": "3.9.7"
  }
 },
 "nbformat": 4,
 "nbformat_minor": 5
}
